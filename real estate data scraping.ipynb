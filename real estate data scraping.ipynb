{
  "nbformat": 4,
  "nbformat_minor": 0,
  "metadata": {
    "colab": {
      "name": "TXTA_End Term_Ananda_Chatterjee_A20002_Prob_2.ipynb",
      "provenance": [],
      "collapsed_sections": []
    },
    "kernelspec": {
      "name": "python3",
      "display_name": "Python 3"
    },
    "language_info": {
      "name": "python"
    },
    "accelerator": "GPU"
  },
  "cells": [
    {
      "cell_type": "code",
      "metadata": {
        "id": "fiIyx9WCMzwh"
      },
      "source": [
        "from bs4 import BeautifulSoup as soup\n",
        "from requests import get\n",
        "import pandas as pd\n",
        "import requests\n",
        "import re"
      ],
      "execution_count": null,
      "outputs": []
    },
    {
      "cell_type": "code",
      "metadata": {
        "id": "_uQlT9WSNLXr"
      },
      "source": [
        "page=('https://www.makaan.com/kolkata-property/behala-flats-for-sale-50385?page=2')"
      ],
      "execution_count": null,
      "outputs": []
    },
    {
      "cell_type": "code",
      "metadata": {
        "colab": {
          "base_uri": "https://localhost:8080/"
        },
        "id": "cnRujjT3NvGc",
        "outputId": "d5662dd5-826e-4396-8afb-9462f6e30959"
      },
      "source": [
        "response = requests.get('https://www.makaan.com/kolkata-property/behala-flats-for-sale-50385?page=2')\n",
        "response"
      ],
      "execution_count": null,
      "outputs": [
        {
          "output_type": "execute_result",
          "data": {
            "text/plain": [
              "<Response [200]>"
            ]
          },
          "metadata": {
            "tags": []
          },
          "execution_count": 26
        }
      ]
    },
    {
      "cell_type": "code",
      "metadata": {
        "id": "Fa2PS2VjI7Ft"
      },
      "source": [
        "init='https://www.makaan.com/kolkata-property/behala-flats-for-sale-50385?page=2'\n",
        "r = requests.get(init)\n",
        "page_html = soup(r.text, 'html.parser')\n",
        "house_containers = page_html.find_all(\"li\",class_=\"cardholder\") \n",
        "zz=house_containers[0]\n",
        "zz1=zz.find(\"div\",class_=\"title-line-wrap\").text"
      ],
      "execution_count": null,
      "outputs": []
    },
    {
      "cell_type": "code",
      "metadata": {
        "colab": {
          "base_uri": "https://localhost:8080/",
          "height": 35
        },
        "id": "jdNuFAQeJ7cu",
        "outputId": "50772e43-6ad9-4969-dd91-63967bc35ed5"
      },
      "source": [
        "zz1"
      ],
      "execution_count": null,
      "outputs": [
        {
          "output_type": "execute_result",
          "data": {
            "application/vnd.google.colaboratory.intrinsic+json": {
              "type": "string"
            },
            "text/plain": [
              "'3 BHK Apartment in Surya HeightsBehala, Kolkata'"
            ]
          },
          "metadata": {
            "tags": []
          },
          "execution_count": 17
        }
      ]
    },
    {
      "cell_type": "code",
      "metadata": {
        "id": "CZvYR8D9ODPa"
      },
      "source": [
        "BHK=[]\n",
        "price=[]\n",
        "location=[]\n",
        "title=[]"
      ],
      "execution_count": null,
      "outputs": []
    },
    {
      "cell_type": "code",
      "metadata": {
        "colab": {
          "base_uri": "https://localhost:8080/"
        },
        "id": "E692b0HyOaiT",
        "outputId": "e4d57d5c-0eab-4f01-f49a-c6a8fb2a0e03"
      },
      "source": [
        "n_pages = 0\n",
        "init='https://www.makaan.com/kolkata-property/behala-flats-for-sale-50385?page='\n",
        "for page in range(2,11):  #The no. of pages you wanted to scrap considering pages available in the url.\n",
        "    n_pages += 1\n",
        "    url = init + str(page)\n",
        "    # This for gets us into next page after every iteration.\n",
        "    r = requests.get(url) # Here r is response data.\n",
        "    page_html = soup(r.text, 'html.parser') \n",
        "    house_containers = page_html.find_all(\"li\",class_=\"cardholder\") \n",
        "    for data in house_containers:\n",
        "      location_=data.find_all(\"a\",class_=\"loclink\")\n",
        "################################ LOCATION  #######################################      \n",
        "      for i in location_:\n",
        "        d=i.text\n",
        "        r= d.split(',',)[0] # Splitting the obtained text and returning the first element of text.\n",
        "        location.append(r)\n",
        "\n",
        "################################    PRICE    ######################################            \n",
        "      cost=data.find_all(\"td\",class_=\"price\")\n",
        "      for i in cost:\n",
        "        d=i.text\n",
        "        if 'L' in d:\n",
        "          a = d.split()[0]\n",
        "          price.append(float(a)) # Type conversion of obtained data.\n",
        "        elif 'Cr' in d:\n",
        "          b = d.split()[0]\n",
        "          price.append(float(b) * 100) # Coverting CRORES into LAKHS.\n",
        "        else:  # If no value found in the class return value 0.\n",
        "          e=0\n",
        "          price.append(float(e)) \n",
        "      type_=data.find_all(\"a\",class_=\"typelink\") # Class containing title name of a property.\n",
        "      for i in type_:\n",
        "        d=i.text\n",
        "        title.append(d)     \n",
        "      bhk=data.find_all(\"div\",class_=\"title-line-wrap\")\n",
        "      for i in bhk:\n",
        "        d=i.text\n",
        "        r= d.split()[0] # Splitting the obtained text and returning the first element of text.\n",
        "        BHK.append(r)\n",
        "        \n",
        "      \n",
        "print('You scraped {} pages containing {} properties.'.format(n_pages,len(title)))      \n",
        "print(BHK)           "
      ],
      "execution_count": null,
      "outputs": [
        {
          "output_type": "stream",
          "text": [
            "You scraped 9 pages containing 240 properties.\n",
            "['3', '3', '3', '2', '2', '2', '3', '2', '2', '3', '3', '3', '3', '4', '2', '2', 'Residential', '2', '2', '2', '2', '3', '2', '3', '2', '2', '2', '3', '2', '1', '3', '2', '3', '3', '2', '3', '2', '3', '2', '2', '3', '2', '2', '3', '3', '3', '3', '2', '2', '2', '2', '2', '3', '2', '3', '3', '3', '3', '1', '3', '3', '3', '3', '2', '2', '2', '3', '2', '2', '3', '3', '3', '3', '4', '2', '2', 'Residential', '2', '2', '2', '2', '3', '2', '3', '2', '2', '2', '3', '2', '1', '3', '2', '3', '3', '2', '3', '2', '3', '2', '2', '3', '2', '2', '3', '3', '3', '3', '2', '2', '2', '2', '2', '3', '2', '3', '3', '3', '3', '1', '3', '3', '3', '2', '3', '2', '3', '3', '2', '3', '2', '3', '3', '3', '3', '3', '3', '2', '3', '2', '3', '2', '3', '3', '2', '2', '2', '3', '2', '2', '2', '2', '3', '2', '3', '3', '2', '2', '2', '3', '2', '3', '2', '3', '3', '3', '2', '3', '2', '3', '3', '4', '3', '3', '2', '3', '3', '2', '3', '3', '3', '3', '8', '3', '2', '3', '3', '1', '1', '3', '3', '3', '3', '2', '2', '2', '3', '3', '6', '2', '3', '3', '3', '3', '3', '2', '3', '2', '2', '2', '3', '3', '2', '3', '3', '3', '3', '2', '2', '2', '2', '3', '3', '3', '2', '1', '3', '3', '3', '3', '2', '2', '2', '2', '3', '2', '2', '3', '3', '3', '2']\n"
          ],
          "name": "stdout"
        }
      ]
    },
    {
      "cell_type": "code",
      "metadata": {
        "id": "N9MJWdoPT_HY"
      },
      "source": [
        "df=pd.DataFrame()\n",
        "df['location']=location\n",
        "df['price(L)']=price\n",
        "df['BHK']=BHK"
      ],
      "execution_count": null,
      "outputs": []
    },
    {
      "cell_type": "code",
      "metadata": {
        "colab": {
          "base_uri": "https://localhost:8080/"
        },
        "id": "7l--OuczQ77T",
        "outputId": "2a4b0013-1b19-4771-970f-1be30ff8a1ce"
      },
      "source": [
        "df.shape"
      ],
      "execution_count": null,
      "outputs": [
        {
          "output_type": "execute_result",
          "data": {
            "text/plain": [
              "(240, 3)"
            ]
          },
          "metadata": {
            "tags": []
          },
          "execution_count": 37
        }
      ]
    },
    {
      "cell_type": "code",
      "metadata": {
        "colab": {
          "base_uri": "https://localhost:8080/",
          "height": 1000
        },
        "id": "5npcEl9GRAFt",
        "outputId": "d6d057d9-3bd7-40ed-8155-24800bedfa43"
      },
      "source": [
        "df.head(50)"
      ],
      "execution_count": null,
      "outputs": [
        {
          "output_type": "execute_result",
          "data": {
            "text/html": [
              "<div>\n",
              "<style scoped>\n",
              "    .dataframe tbody tr th:only-of-type {\n",
              "        vertical-align: middle;\n",
              "    }\n",
              "\n",
              "    .dataframe tbody tr th {\n",
              "        vertical-align: top;\n",
              "    }\n",
              "\n",
              "    .dataframe thead th {\n",
              "        text-align: right;\n",
              "    }\n",
              "</style>\n",
              "<table border=\"1\" class=\"dataframe\">\n",
              "  <thead>\n",
              "    <tr style=\"text-align: right;\">\n",
              "      <th></th>\n",
              "      <th>location</th>\n",
              "      <th>price(L)</th>\n",
              "      <th>BHK</th>\n",
              "    </tr>\n",
              "  </thead>\n",
              "  <tbody>\n",
              "    <tr>\n",
              "      <th>0</th>\n",
              "      <td>Behala</td>\n",
              "      <td>36.22</td>\n",
              "      <td>3</td>\n",
              "    </tr>\n",
              "    <tr>\n",
              "      <th>1</th>\n",
              "      <td>Behala</td>\n",
              "      <td>94.74</td>\n",
              "      <td>3</td>\n",
              "    </tr>\n",
              "    <tr>\n",
              "      <th>2</th>\n",
              "      <td>Behala</td>\n",
              "      <td>65.00</td>\n",
              "      <td>3</td>\n",
              "    </tr>\n",
              "    <tr>\n",
              "      <th>3</th>\n",
              "      <td>Behala</td>\n",
              "      <td>30.00</td>\n",
              "      <td>2</td>\n",
              "    </tr>\n",
              "    <tr>\n",
              "      <th>4</th>\n",
              "      <td>Behala</td>\n",
              "      <td>35.00</td>\n",
              "      <td>2</td>\n",
              "    </tr>\n",
              "    <tr>\n",
              "      <th>5</th>\n",
              "      <td>Behala</td>\n",
              "      <td>24.02</td>\n",
              "      <td>2</td>\n",
              "    </tr>\n",
              "    <tr>\n",
              "      <th>6</th>\n",
              "      <td>Behala</td>\n",
              "      <td>45.18</td>\n",
              "      <td>3</td>\n",
              "    </tr>\n",
              "    <tr>\n",
              "      <th>7</th>\n",
              "      <td>Behala</td>\n",
              "      <td>35.00</td>\n",
              "      <td>2</td>\n",
              "    </tr>\n",
              "    <tr>\n",
              "      <th>8</th>\n",
              "      <td>Behala</td>\n",
              "      <td>38.00</td>\n",
              "      <td>2</td>\n",
              "    </tr>\n",
              "    <tr>\n",
              "      <th>9</th>\n",
              "      <td>Behala</td>\n",
              "      <td>44.28</td>\n",
              "      <td>3</td>\n",
              "    </tr>\n",
              "    <tr>\n",
              "      <th>10</th>\n",
              "      <td>Behala</td>\n",
              "      <td>52.10</td>\n",
              "      <td>3</td>\n",
              "    </tr>\n",
              "    <tr>\n",
              "      <th>11</th>\n",
              "      <td>Behala</td>\n",
              "      <td>43.00</td>\n",
              "      <td>3</td>\n",
              "    </tr>\n",
              "    <tr>\n",
              "      <th>12</th>\n",
              "      <td>Behala</td>\n",
              "      <td>52.02</td>\n",
              "      <td>3</td>\n",
              "    </tr>\n",
              "    <tr>\n",
              "      <th>13</th>\n",
              "      <td>Behala</td>\n",
              "      <td>125.00</td>\n",
              "      <td>4</td>\n",
              "    </tr>\n",
              "    <tr>\n",
              "      <th>14</th>\n",
              "      <td>Behala</td>\n",
              "      <td>28.00</td>\n",
              "      <td>2</td>\n",
              "    </tr>\n",
              "    <tr>\n",
              "      <th>15</th>\n",
              "      <td>Behala</td>\n",
              "      <td>20.00</td>\n",
              "      <td>2</td>\n",
              "    </tr>\n",
              "    <tr>\n",
              "      <th>16</th>\n",
              "      <td>Behala</td>\n",
              "      <td>50.00</td>\n",
              "      <td>Residential</td>\n",
              "    </tr>\n",
              "    <tr>\n",
              "      <th>17</th>\n",
              "      <td>Behala</td>\n",
              "      <td>27.50</td>\n",
              "      <td>2</td>\n",
              "    </tr>\n",
              "    <tr>\n",
              "      <th>18</th>\n",
              "      <td>Behala</td>\n",
              "      <td>34.00</td>\n",
              "      <td>2</td>\n",
              "    </tr>\n",
              "    <tr>\n",
              "      <th>19</th>\n",
              "      <td>Behala</td>\n",
              "      <td>35.06</td>\n",
              "      <td>2</td>\n",
              "    </tr>\n",
              "    <tr>\n",
              "      <th>20</th>\n",
              "      <td>Behala</td>\n",
              "      <td>43.58</td>\n",
              "      <td>2</td>\n",
              "    </tr>\n",
              "    <tr>\n",
              "      <th>21</th>\n",
              "      <td>Behala</td>\n",
              "      <td>36.22</td>\n",
              "      <td>3</td>\n",
              "    </tr>\n",
              "    <tr>\n",
              "      <th>22</th>\n",
              "      <td>Behala</td>\n",
              "      <td>28.00</td>\n",
              "      <td>2</td>\n",
              "    </tr>\n",
              "    <tr>\n",
              "      <th>23</th>\n",
              "      <td>Behala</td>\n",
              "      <td>56.13</td>\n",
              "      <td>3</td>\n",
              "    </tr>\n",
              "    <tr>\n",
              "      <th>24</th>\n",
              "      <td>Behala</td>\n",
              "      <td>35.00</td>\n",
              "      <td>2</td>\n",
              "    </tr>\n",
              "    <tr>\n",
              "      <th>25</th>\n",
              "      <td>Behala</td>\n",
              "      <td>68.35</td>\n",
              "      <td>2</td>\n",
              "    </tr>\n",
              "    <tr>\n",
              "      <th>26</th>\n",
              "      <td>Behala</td>\n",
              "      <td>20.00</td>\n",
              "      <td>2</td>\n",
              "    </tr>\n",
              "    <tr>\n",
              "      <th>27</th>\n",
              "      <td>Behala</td>\n",
              "      <td>40.62</td>\n",
              "      <td>3</td>\n",
              "    </tr>\n",
              "    <tr>\n",
              "      <th>28</th>\n",
              "      <td>Behala</td>\n",
              "      <td>28.40</td>\n",
              "      <td>2</td>\n",
              "    </tr>\n",
              "    <tr>\n",
              "      <th>29</th>\n",
              "      <td>Behala</td>\n",
              "      <td>16.50</td>\n",
              "      <td>1</td>\n",
              "    </tr>\n",
              "    <tr>\n",
              "      <th>30</th>\n",
              "      <td>Behala</td>\n",
              "      <td>76.00</td>\n",
              "      <td>3</td>\n",
              "    </tr>\n",
              "    <tr>\n",
              "      <th>31</th>\n",
              "      <td>Behala</td>\n",
              "      <td>36.88</td>\n",
              "      <td>2</td>\n",
              "    </tr>\n",
              "    <tr>\n",
              "      <th>32</th>\n",
              "      <td>Behala</td>\n",
              "      <td>46.08</td>\n",
              "      <td>3</td>\n",
              "    </tr>\n",
              "    <tr>\n",
              "      <th>33</th>\n",
              "      <td>Behala</td>\n",
              "      <td>62.56</td>\n",
              "      <td>3</td>\n",
              "    </tr>\n",
              "    <tr>\n",
              "      <th>34</th>\n",
              "      <td>Behala</td>\n",
              "      <td>36.88</td>\n",
              "      <td>2</td>\n",
              "    </tr>\n",
              "    <tr>\n",
              "      <th>35</th>\n",
              "      <td>Behala</td>\n",
              "      <td>52.00</td>\n",
              "      <td>3</td>\n",
              "    </tr>\n",
              "    <tr>\n",
              "      <th>36</th>\n",
              "      <td>Behala</td>\n",
              "      <td>26.49</td>\n",
              "      <td>2</td>\n",
              "    </tr>\n",
              "    <tr>\n",
              "      <th>37</th>\n",
              "      <td>Behala</td>\n",
              "      <td>56.12</td>\n",
              "      <td>3</td>\n",
              "    </tr>\n",
              "    <tr>\n",
              "      <th>38</th>\n",
              "      <td>Behala</td>\n",
              "      <td>27.00</td>\n",
              "      <td>2</td>\n",
              "    </tr>\n",
              "    <tr>\n",
              "      <th>39</th>\n",
              "      <td>Behala</td>\n",
              "      <td>46.06</td>\n",
              "      <td>2</td>\n",
              "    </tr>\n",
              "    <tr>\n",
              "      <th>40</th>\n",
              "      <td>Behala</td>\n",
              "      <td>40.82</td>\n",
              "      <td>3</td>\n",
              "    </tr>\n",
              "    <tr>\n",
              "      <th>41</th>\n",
              "      <td>Behala</td>\n",
              "      <td>28.93</td>\n",
              "      <td>2</td>\n",
              "    </tr>\n",
              "    <tr>\n",
              "      <th>42</th>\n",
              "      <td>Behala</td>\n",
              "      <td>31.00</td>\n",
              "      <td>2</td>\n",
              "    </tr>\n",
              "    <tr>\n",
              "      <th>43</th>\n",
              "      <td>Behala</td>\n",
              "      <td>38.00</td>\n",
              "      <td>3</td>\n",
              "    </tr>\n",
              "    <tr>\n",
              "      <th>44</th>\n",
              "      <td>Behala</td>\n",
              "      <td>32.50</td>\n",
              "      <td>3</td>\n",
              "    </tr>\n",
              "    <tr>\n",
              "      <th>45</th>\n",
              "      <td>Behala</td>\n",
              "      <td>44.99</td>\n",
              "      <td>3</td>\n",
              "    </tr>\n",
              "    <tr>\n",
              "      <th>46</th>\n",
              "      <td>Behala</td>\n",
              "      <td>58.72</td>\n",
              "      <td>3</td>\n",
              "    </tr>\n",
              "    <tr>\n",
              "      <th>47</th>\n",
              "      <td>Behala</td>\n",
              "      <td>28.00</td>\n",
              "      <td>2</td>\n",
              "    </tr>\n",
              "    <tr>\n",
              "      <th>48</th>\n",
              "      <td>Behala</td>\n",
              "      <td>30.00</td>\n",
              "      <td>2</td>\n",
              "    </tr>\n",
              "    <tr>\n",
              "      <th>49</th>\n",
              "      <td>Behala</td>\n",
              "      <td>30.40</td>\n",
              "      <td>2</td>\n",
              "    </tr>\n",
              "  </tbody>\n",
              "</table>\n",
              "</div>"
            ],
            "text/plain": [
              "   location  price(L)          BHK\n",
              "0    Behala     36.22            3\n",
              "1    Behala     94.74            3\n",
              "2    Behala     65.00            3\n",
              "3    Behala     30.00            2\n",
              "4    Behala     35.00            2\n",
              "5    Behala     24.02            2\n",
              "6    Behala     45.18            3\n",
              "7    Behala     35.00            2\n",
              "8    Behala     38.00            2\n",
              "9    Behala     44.28            3\n",
              "10   Behala     52.10            3\n",
              "11   Behala     43.00            3\n",
              "12   Behala     52.02            3\n",
              "13   Behala    125.00            4\n",
              "14   Behala     28.00            2\n",
              "15   Behala     20.00            2\n",
              "16   Behala     50.00  Residential\n",
              "17   Behala     27.50            2\n",
              "18   Behala     34.00            2\n",
              "19   Behala     35.06            2\n",
              "20   Behala     43.58            2\n",
              "21   Behala     36.22            3\n",
              "22   Behala     28.00            2\n",
              "23   Behala     56.13            3\n",
              "24   Behala     35.00            2\n",
              "25   Behala     68.35            2\n",
              "26   Behala     20.00            2\n",
              "27   Behala     40.62            3\n",
              "28   Behala     28.40            2\n",
              "29   Behala     16.50            1\n",
              "30   Behala     76.00            3\n",
              "31   Behala     36.88            2\n",
              "32   Behala     46.08            3\n",
              "33   Behala     62.56            3\n",
              "34   Behala     36.88            2\n",
              "35   Behala     52.00            3\n",
              "36   Behala     26.49            2\n",
              "37   Behala     56.12            3\n",
              "38   Behala     27.00            2\n",
              "39   Behala     46.06            2\n",
              "40   Behala     40.82            3\n",
              "41   Behala     28.93            2\n",
              "42   Behala     31.00            2\n",
              "43   Behala     38.00            3\n",
              "44   Behala     32.50            3\n",
              "45   Behala     44.99            3\n",
              "46   Behala     58.72            3\n",
              "47   Behala     28.00            2\n",
              "48   Behala     30.00            2\n",
              "49   Behala     30.40            2"
            ]
          },
          "metadata": {
            "tags": []
          },
          "execution_count": 38
        }
      ]
    }
  ]
}